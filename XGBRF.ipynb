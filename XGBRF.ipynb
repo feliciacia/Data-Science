{
  "nbformat": 4,
  "nbformat_minor": 0,
  "metadata": {
    "colab": {
      "provenance": [],
      "authorship_tag": "ABX9TyM1kOdZhrmbBkMEeg/LJauV",
      "include_colab_link": true
    },
    "kernelspec": {
      "name": "python3",
      "display_name": "Python 3"
    },
    "language_info": {
      "name": "python"
    }
  },
  "cells": [
    {
      "cell_type": "markdown",
      "metadata": {
        "id": "view-in-github",
        "colab_type": "text"
      },
      "source": [
        "<a href=\"https://colab.research.google.com/github/feliciacia/Data-Science/blob/main/XGBRF.ipynb\" target=\"_parent\"><img src=\"https://colab.research.google.com/assets/colab-badge.svg\" alt=\"Open In Colab\"/></a>"
      ]
    },
    {
      "cell_type": "code",
      "metadata": {
        "id": "jxf6nSPD2_IP"
      },
      "source": [
        "import pandas as pd \n",
        "import xgboost as xgb\n",
        "from xgboost.sklearn import XGBRFClassifier\n"
      ],
      "execution_count": null,
      "outputs": []
    },
    {
      "cell_type": "code",
      "metadata": {
        "colab": {
          "base_uri": "https://localhost:8080/"
        },
        "id": "Kvs1qRga3L4-",
        "outputId": "66912b04-b32e-41cd-95eb-7b1392537a8a"
      },
      "source": [
        "from google.colab import drive\n",
        "drive.mount('/content/gdrive')"
      ],
      "execution_count": null,
      "outputs": [
        {
          "output_type": "stream",
          "name": "stdout",
          "text": [
            "Mounted at /content/gdrive\n"
          ]
        }
      ]
    },
    {
      "cell_type": "code",
      "metadata": {
        "colab": {
          "base_uri": "https://localhost:8080/",
          "height": 226
        },
        "id": "JIxeQk_35GLG",
        "outputId": "20bba6a2-fe66-4d0d-f974-d5b423da26b5"
      },
      "source": [
        "train=pd.read_csv('gdrive/My Drive/data_sciencehw1/train.csv')\n",
        "test=pd.read_csv('gdrive/My Drive/data_sciencehw1/test.csv')\n",
        "train['Attribute8'].unique()\n",
        "train.head()"
      ],
      "execution_count": null,
      "outputs": [
        {
          "output_type": "execute_result",
          "data": {
            "text/html": [
              "<div>\n",
              "<style scoped>\n",
              "    .dataframe tbody tr th:only-of-type {\n",
              "        vertical-align: middle;\n",
              "    }\n",
              "\n",
              "    .dataframe tbody tr th {\n",
              "        vertical-align: top;\n",
              "    }\n",
              "\n",
              "    .dataframe thead th {\n",
              "        text-align: right;\n",
              "    }\n",
              "</style>\n",
              "<table border=\"1\" class=\"dataframe\">\n",
              "  <thead>\n",
              "    <tr style=\"text-align: right;\">\n",
              "      <th></th>\n",
              "      <th>Attribute1</th>\n",
              "      <th>Attribute2</th>\n",
              "      <th>Attribute3</th>\n",
              "      <th>Attribute4</th>\n",
              "      <th>Attribute5</th>\n",
              "      <th>Attribute6</th>\n",
              "      <th>Attribute7</th>\n",
              "      <th>Attribute8</th>\n",
              "      <th>Attribute9</th>\n",
              "      <th>Attribute10</th>\n",
              "      <th>Attribute11</th>\n",
              "      <th>Attribute12</th>\n",
              "      <th>Attribute13</th>\n",
              "      <th>Attribute14</th>\n",
              "      <th>Attribute15</th>\n",
              "      <th>Attribute16</th>\n",
              "      <th>Attribute17</th>\n",
              "      <th>Attribute18</th>\n",
              "      <th>Attribute19</th>\n",
              "      <th>Attribute20</th>\n",
              "      <th>Attribute21</th>\n",
              "      <th>Attribute22</th>\n",
              "      <th>Attribute23</th>\n",
              "    </tr>\n",
              "  </thead>\n",
              "  <tbody>\n",
              "    <tr>\n",
              "      <th>0</th>\n",
              "      <td>2008-12-01</td>\n",
              "      <td>2</td>\n",
              "      <td>13.4</td>\n",
              "      <td>22.9</td>\n",
              "      <td>0.6</td>\n",
              "      <td>NaN</td>\n",
              "      <td>NaN</td>\n",
              "      <td>W</td>\n",
              "      <td>44.0</td>\n",
              "      <td>W</td>\n",
              "      <td>WNW</td>\n",
              "      <td>20.0</td>\n",
              "      <td>24.0</td>\n",
              "      <td>71.0</td>\n",
              "      <td>22.0</td>\n",
              "      <td>1007.7</td>\n",
              "      <td>1007.1</td>\n",
              "      <td>8.0</td>\n",
              "      <td>NaN</td>\n",
              "      <td>16.9</td>\n",
              "      <td>21.8</td>\n",
              "      <td>No</td>\n",
              "      <td>No</td>\n",
              "    </tr>\n",
              "    <tr>\n",
              "      <th>1</th>\n",
              "      <td>2008-12-17</td>\n",
              "      <td>2</td>\n",
              "      <td>14.1</td>\n",
              "      <td>20.9</td>\n",
              "      <td>0.0</td>\n",
              "      <td>NaN</td>\n",
              "      <td>NaN</td>\n",
              "      <td>ENE</td>\n",
              "      <td>22.0</td>\n",
              "      <td>SSW</td>\n",
              "      <td>E</td>\n",
              "      <td>11.0</td>\n",
              "      <td>9.0</td>\n",
              "      <td>69.0</td>\n",
              "      <td>82.0</td>\n",
              "      <td>1012.2</td>\n",
              "      <td>1010.4</td>\n",
              "      <td>8.0</td>\n",
              "      <td>1.0</td>\n",
              "      <td>17.2</td>\n",
              "      <td>18.1</td>\n",
              "      <td>No</td>\n",
              "      <td>Yes</td>\n",
              "    </tr>\n",
              "    <tr>\n",
              "      <th>2</th>\n",
              "      <td>2008-12-20</td>\n",
              "      <td>2</td>\n",
              "      <td>9.8</td>\n",
              "      <td>25.6</td>\n",
              "      <td>0.0</td>\n",
              "      <td>NaN</td>\n",
              "      <td>NaN</td>\n",
              "      <td>SSE</td>\n",
              "      <td>26.0</td>\n",
              "      <td>SE</td>\n",
              "      <td>NNW</td>\n",
              "      <td>17.0</td>\n",
              "      <td>6.0</td>\n",
              "      <td>45.0</td>\n",
              "      <td>26.0</td>\n",
              "      <td>1019.2</td>\n",
              "      <td>1017.1</td>\n",
              "      <td>NaN</td>\n",
              "      <td>NaN</td>\n",
              "      <td>15.8</td>\n",
              "      <td>23.2</td>\n",
              "      <td>No</td>\n",
              "      <td>No</td>\n",
              "    </tr>\n",
              "    <tr>\n",
              "      <th>3</th>\n",
              "      <td>2008-12-30</td>\n",
              "      <td>2</td>\n",
              "      <td>12.5</td>\n",
              "      <td>24.2</td>\n",
              "      <td>1.2</td>\n",
              "      <td>NaN</td>\n",
              "      <td>NaN</td>\n",
              "      <td>WNW</td>\n",
              "      <td>50.0</td>\n",
              "      <td>WSW</td>\n",
              "      <td>SW</td>\n",
              "      <td>11.0</td>\n",
              "      <td>22.0</td>\n",
              "      <td>78.0</td>\n",
              "      <td>70.0</td>\n",
              "      <td>1005.6</td>\n",
              "      <td>1003.4</td>\n",
              "      <td>8.0</td>\n",
              "      <td>8.0</td>\n",
              "      <td>12.5</td>\n",
              "      <td>18.2</td>\n",
              "      <td>Yes</td>\n",
              "      <td>No</td>\n",
              "    </tr>\n",
              "    <tr>\n",
              "      <th>4</th>\n",
              "      <td>2009-01-22</td>\n",
              "      <td>2</td>\n",
              "      <td>24.4</td>\n",
              "      <td>34.0</td>\n",
              "      <td>0.6</td>\n",
              "      <td>NaN</td>\n",
              "      <td>NaN</td>\n",
              "      <td>NW</td>\n",
              "      <td>98.0</td>\n",
              "      <td>N</td>\n",
              "      <td>NNW</td>\n",
              "      <td>26.0</td>\n",
              "      <td>48.0</td>\n",
              "      <td>60.0</td>\n",
              "      <td>39.0</td>\n",
              "      <td>1005.3</td>\n",
              "      <td>997.8</td>\n",
              "      <td>4.0</td>\n",
              "      <td>1.0</td>\n",
              "      <td>26.1</td>\n",
              "      <td>33.1</td>\n",
              "      <td>No</td>\n",
              "      <td>Yes</td>\n",
              "    </tr>\n",
              "  </tbody>\n",
              "</table>\n",
              "</div>"
            ],
            "text/plain": [
              "   Attribute1  Attribute2  Attribute3  ...  Attribute21  Attribute22  Attribute23\n",
              "0  2008-12-01           2        13.4  ...         21.8           No           No\n",
              "1  2008-12-17           2        14.1  ...         18.1           No          Yes\n",
              "2  2008-12-20           2         9.8  ...         23.2           No           No\n",
              "3  2008-12-30           2        12.5  ...         18.2          Yes           No\n",
              "4  2009-01-22           2        24.4  ...         33.1           No          Yes\n",
              "\n",
              "[5 rows x 23 columns]"
            ]
          },
          "metadata": {},
          "execution_count": 3
        }
      ]
    },
    {
      "cell_type": "code",
      "metadata": {
        "id": "2tKFNLaK8MAE"
      },
      "source": [
        "from sklearn.tree import DecisionTreeClassifier\n",
        "from sklearn.model_selection import train_test_split\n",
        "from sklearn import metrics"
      ],
      "execution_count": null,
      "outputs": []
    },
    {
      "cell_type": "code",
      "metadata": {
        "id": "NiUfSH0pABwM",
        "colab": {
          "base_uri": "https://localhost:8080/",
          "height": 363
        },
        "outputId": "e46f5f02-d99d-480e-de2f-80397b997133"
      },
      "source": [
        "x=train.drop(['Attribute23', 'Attribute1','Attribute2','Attribute3','Attribute4','Attribute6','Attribute8','Attribute9','Attribute10','Attribute11','Attribute12', 'Attribute13','Attribute14','Attribute16','Attribute17','Attribute18','Attribute20','Attribute21','Attribute22'],axis=1) #1=col\n",
        "test_data=test.drop(['Attribute1','Attribute2','Attribute3','Attribute4','Attribute6','Attribute8','Attribute9','Attribute10','Attribute11','Attribute12', 'Attribute13','Attribute14','Attribute16','Attribute17','Attribute18','Attribute20','Attribute21','Attribute22'],axis=1) #1=col\n",
        "y=train.Attribute23\n",
        "\n",
        "x.head(10)"
      ],
      "execution_count": null,
      "outputs": [
        {
          "output_type": "execute_result",
          "data": {
            "text/html": [
              "<div>\n",
              "<style scoped>\n",
              "    .dataframe tbody tr th:only-of-type {\n",
              "        vertical-align: middle;\n",
              "    }\n",
              "\n",
              "    .dataframe tbody tr th {\n",
              "        vertical-align: top;\n",
              "    }\n",
              "\n",
              "    .dataframe thead th {\n",
              "        text-align: right;\n",
              "    }\n",
              "</style>\n",
              "<table border=\"1\" class=\"dataframe\">\n",
              "  <thead>\n",
              "    <tr style=\"text-align: right;\">\n",
              "      <th></th>\n",
              "      <th>Attribute5</th>\n",
              "      <th>Attribute7</th>\n",
              "      <th>Attribute15</th>\n",
              "      <th>Attribute19</th>\n",
              "    </tr>\n",
              "  </thead>\n",
              "  <tbody>\n",
              "    <tr>\n",
              "      <th>0</th>\n",
              "      <td>0.6</td>\n",
              "      <td>NaN</td>\n",
              "      <td>22.0</td>\n",
              "      <td>NaN</td>\n",
              "    </tr>\n",
              "    <tr>\n",
              "      <th>1</th>\n",
              "      <td>0.0</td>\n",
              "      <td>NaN</td>\n",
              "      <td>82.0</td>\n",
              "      <td>1.0</td>\n",
              "    </tr>\n",
              "    <tr>\n",
              "      <th>2</th>\n",
              "      <td>0.0</td>\n",
              "      <td>NaN</td>\n",
              "      <td>26.0</td>\n",
              "      <td>NaN</td>\n",
              "    </tr>\n",
              "    <tr>\n",
              "      <th>3</th>\n",
              "      <td>1.2</td>\n",
              "      <td>NaN</td>\n",
              "      <td>70.0</td>\n",
              "      <td>8.0</td>\n",
              "    </tr>\n",
              "    <tr>\n",
              "      <th>4</th>\n",
              "      <td>0.6</td>\n",
              "      <td>NaN</td>\n",
              "      <td>39.0</td>\n",
              "      <td>1.0</td>\n",
              "    </tr>\n",
              "    <tr>\n",
              "      <th>5</th>\n",
              "      <td>0.0</td>\n",
              "      <td>NaN</td>\n",
              "      <td>10.0</td>\n",
              "      <td>NaN</td>\n",
              "    </tr>\n",
              "    <tr>\n",
              "      <th>6</th>\n",
              "      <td>0.0</td>\n",
              "      <td>NaN</td>\n",
              "      <td>13.0</td>\n",
              "      <td>NaN</td>\n",
              "    </tr>\n",
              "    <tr>\n",
              "      <th>7</th>\n",
              "      <td>0.2</td>\n",
              "      <td>NaN</td>\n",
              "      <td>21.0</td>\n",
              "      <td>NaN</td>\n",
              "    </tr>\n",
              "    <tr>\n",
              "      <th>8</th>\n",
              "      <td>0.4</td>\n",
              "      <td>NaN</td>\n",
              "      <td>31.0</td>\n",
              "      <td>8.0</td>\n",
              "    </tr>\n",
              "    <tr>\n",
              "      <th>9</th>\n",
              "      <td>0.0</td>\n",
              "      <td>NaN</td>\n",
              "      <td>30.0</td>\n",
              "      <td>1.0</td>\n",
              "    </tr>\n",
              "  </tbody>\n",
              "</table>\n",
              "</div>"
            ],
            "text/plain": [
              "   Attribute5  Attribute7  Attribute15  Attribute19\n",
              "0         0.6         NaN         22.0          NaN\n",
              "1         0.0         NaN         82.0          1.0\n",
              "2         0.0         NaN         26.0          NaN\n",
              "3         1.2         NaN         70.0          8.0\n",
              "4         0.6         NaN         39.0          1.0\n",
              "5         0.0         NaN         10.0          NaN\n",
              "6         0.0         NaN         13.0          NaN\n",
              "7         0.2         NaN         21.0          NaN\n",
              "8         0.4         NaN         31.0          8.0\n",
              "9         0.0         NaN         30.0          1.0"
            ]
          },
          "metadata": {},
          "execution_count": 30
        }
      ]
    },
    {
      "cell_type": "code",
      "metadata": {
        "colab": {
          "base_uri": "https://localhost:8080/",
          "height": 206
        },
        "id": "LItMBN7EBUnE",
        "outputId": "529c6532-69a4-4110-dabf-3617e482dbf6"
      },
      "source": [
        "x_train, x_test, y_train, y_test=train_test_split(x,y,test_size=0.3)\n",
        "x_train.head()"
      ],
      "execution_count": null,
      "outputs": [
        {
          "output_type": "execute_result",
          "data": {
            "text/html": [
              "<div>\n",
              "<style scoped>\n",
              "    .dataframe tbody tr th:only-of-type {\n",
              "        vertical-align: middle;\n",
              "    }\n",
              "\n",
              "    .dataframe tbody tr th {\n",
              "        vertical-align: top;\n",
              "    }\n",
              "\n",
              "    .dataframe thead th {\n",
              "        text-align: right;\n",
              "    }\n",
              "</style>\n",
              "<table border=\"1\" class=\"dataframe\">\n",
              "  <thead>\n",
              "    <tr style=\"text-align: right;\">\n",
              "      <th></th>\n",
              "      <th>Attribute5</th>\n",
              "      <th>Attribute7</th>\n",
              "      <th>Attribute15</th>\n",
              "      <th>Attribute19</th>\n",
              "    </tr>\n",
              "  </thead>\n",
              "  <tbody>\n",
              "    <tr>\n",
              "      <th>1129</th>\n",
              "      <td>10.6</td>\n",
              "      <td>2.6</td>\n",
              "      <td>66.0</td>\n",
              "      <td>7.0</td>\n",
              "    </tr>\n",
              "    <tr>\n",
              "      <th>2638</th>\n",
              "      <td>0.0</td>\n",
              "      <td>6.2</td>\n",
              "      <td>49.0</td>\n",
              "      <td>5.0</td>\n",
              "    </tr>\n",
              "    <tr>\n",
              "      <th>16272</th>\n",
              "      <td>0.0</td>\n",
              "      <td>13.2</td>\n",
              "      <td>8.0</td>\n",
              "      <td>0.0</td>\n",
              "    </tr>\n",
              "    <tr>\n",
              "      <th>2655</th>\n",
              "      <td>0.0</td>\n",
              "      <td>9.1</td>\n",
              "      <td>69.0</td>\n",
              "      <td>6.0</td>\n",
              "    </tr>\n",
              "    <tr>\n",
              "      <th>7403</th>\n",
              "      <td>0.2</td>\n",
              "      <td>NaN</td>\n",
              "      <td>57.0</td>\n",
              "      <td>5.0</td>\n",
              "    </tr>\n",
              "  </tbody>\n",
              "</table>\n",
              "</div>"
            ],
            "text/plain": [
              "       Attribute5  Attribute7  Attribute15  Attribute19\n",
              "1129         10.6         2.6         66.0          7.0\n",
              "2638          0.0         6.2         49.0          5.0\n",
              "16272         0.0        13.2          8.0          0.0\n",
              "2655          0.0         9.1         69.0          6.0\n",
              "7403          0.2         NaN         57.0          5.0"
            ]
          },
          "metadata": {},
          "execution_count": 31
        }
      ]
    },
    {
      "cell_type": "code",
      "metadata": {
        "id": "WiMEVrXOpu2C"
      },
      "source": [
        "from sklearn.model_selection import GridSearchCV"
      ],
      "execution_count": null,
      "outputs": []
    },
    {
      "cell_type": "code",
      "metadata": {
        "colab": {
          "base_uri": "https://localhost:8080/"
        },
        "id": "7Qc4P2qTRoBC",
        "outputId": "16db39bc-b0fb-49bc-9548-16cfc3ca5c5f"
      },
      "source": [
        "param1 = {'max_depth':[5,10,15,20,25],\n",
        "          'min_child_weight':[25,50,75,100]}\n",
        "grid1 = GridSearchCV(estimator = XGBRFClassifier(learning_rate=0.01, scale_pos_weight=4.38),param_grid=param1,scoring='roc_auc')\n",
        "grid1.fit(x,y)\n",
        "grid1.best_params_, grid1.best_score_"
      ],
      "execution_count": null,
      "outputs": [
        {
          "output_type": "execute_result",
          "data": {
            "text/plain": [
              "({'max_depth': 10, 'min_child_weight': 50}, 0.8278445654263387)"
            ]
          },
          "metadata": {},
          "execution_count": 41
        }
      ]
    },
    {
      "cell_type": "code",
      "metadata": {
        "colab": {
          "base_uri": "https://localhost:8080/"
        },
        "id": "QRJ-BE20T4en",
        "outputId": "2c07bcac-d8d8-48db-ce0a-d93804597006"
      },
      "source": [
        "param2 = {'n_estimators':[300,325,350,375,400,425,450,475,500]}\n",
        "grid2 = GridSearchCV(estimator = XGBRFClassifier(learning_rate=0.01, scale_pos_weight=4.38, max_depth=10,min_child_weight=50),param_grid=param2,scoring='roc_auc')\n",
        "grid2.fit(x,y)\n",
        "grid2.best_params_, grid2.best_score_"
      ],
      "execution_count": null,
      "outputs": [
        {
          "output_type": "execute_result",
          "data": {
            "text/plain": [
              "({'n_estimators': 450}, 0.8280878867969867)"
            ]
          },
          "metadata": {},
          "execution_count": 43
        }
      ]
    },
    {
      "cell_type": "code",
      "metadata": {
        "colab": {
          "base_uri": "https://localhost:8080/"
        },
        "id": "baOmHVwCVStZ",
        "outputId": "badb10b5-085e-4b95-a038-8597d96e4e8d"
      },
      "source": [
        "param3 = {'reg_alpha':[0,1e-5,1e-3,1e-1,1,10,100],\n",
        "          'reg_lambda':[0,1e-5,1e-3,1e-1,1,10,100]}\n",
        "grid3 = GridSearchCV(estimator = XGBRFClassifier(learning_rate=0.01, scale_pos_weight=4.38, max_depth=10,min_child_weight=50,n_estimators=450),param_grid=param3,scoring='roc_auc')\n",
        "grid3.fit(x,y)\n",
        "grid3.best_params_, grid3.best_score_"
      ],
      "execution_count": null,
      "outputs": [
        {
          "output_type": "execute_result",
          "data": {
            "text/plain": [
              "({'reg_alpha': 1, 'reg_lambda': 1}, 0.8281398911398729)"
            ]
          },
          "metadata": {},
          "execution_count": 44
        }
      ]
    },
    {
      "cell_type": "code",
      "metadata": {
        "colab": {
          "base_uri": "https://localhost:8080/"
        },
        "id": "mOlbzjvAXpBB",
        "outputId": "c38cfe38-5695-49dd-8130-22b4680f3383"
      },
      "source": [
        "param4 = {'boosting_type':['gbtree','gblinear','dart']}\n",
        "grid4 = GridSearchCV(estimator = XGBRFClassifier(learning_rate=0.01, scale_pos_weight=4.38, max_depth=10,min_child_weight=50,n_estimators=450,reg_alpha=1,reg_lambda=1),param_grid=param4,scoring='roc_auc')\n",
        "grid4.fit(x,y)\n",
        "grid4.best_params_, grid4.best_score_"
      ],
      "execution_count": null,
      "outputs": [
        {
          "output_type": "execute_result",
          "data": {
            "text/plain": [
              "({'boosting_type': 'gbtree'}, 0.8281398911398729)"
            ]
          },
          "metadata": {},
          "execution_count": 45
        }
      ]
    },
    {
      "cell_type": "code",
      "metadata": {
        "colab": {
          "base_uri": "https://localhost:8080/"
        },
        "id": "Ewu0WAHPCTIB",
        "outputId": "c83feb9f-6a26-4f6a-ca3f-781e46e6f3b4"
      },
      "source": [
        "dc= XGBRFClassifier(learning_rate=0.01, scale_pos_weight=4.38, max_depth=10,min_child_weight=50,n_estimators=450,reg_alpha=1,reg_lambda=1)\n",
        "dc=dc.fit(x_train, y_train)\n",
        "metrics.accuracy_score(dc.predict(x_test),y_test) "
      ],
      "execution_count": null,
      "outputs": [
        {
          "output_type": "execute_result",
          "data": {
            "text/plain": [
              "0.7578003120124805"
            ]
          },
          "metadata": {},
          "execution_count": 46
        }
      ]
    },
    {
      "cell_type": "code",
      "metadata": {
        "id": "AfrKRIotFU8S"
      },
      "source": [
        "y_pred = dc.predict(test_data)"
      ],
      "execution_count": null,
      "outputs": []
    },
    {
      "cell_type": "code",
      "metadata": {
        "id": "i-A1pc3wHSm0"
      },
      "source": [
        "for data in range(len(y_pred)):\n",
        "  if(y_pred[data]=='No'):\n",
        "    y_pred[data] = 0\n",
        "  else:\n",
        "    y_pred[data] = 1"
      ],
      "execution_count": null,
      "outputs": []
    },
    {
      "cell_type": "code",
      "metadata": {
        "colab": {
          "base_uri": "https://localhost:8080/",
          "height": 206
        },
        "id": "rJ46vPiaMvCd",
        "outputId": "9b68e67c-9979-4290-96b9-659fa2502eba"
      },
      "source": [
        "\n",
        "y_pred_Data = pd.DataFrame(y_pred)\n",
        "y_pred_Data = y_pred_Data.reset_index()\n",
        "y_pred_Data['index'].astype('str')\n",
        "y_pred_Data.to_csv('gdrive/My Drive/data_sciencehw1/result1.csv',index=False)\n",
        "y_pred_Data.head(5)"
      ],
      "execution_count": null,
      "outputs": [
        {
          "output_type": "execute_result",
          "data": {
            "text/html": [
              "<div>\n",
              "<style scoped>\n",
              "    .dataframe tbody tr th:only-of-type {\n",
              "        vertical-align: middle;\n",
              "    }\n",
              "\n",
              "    .dataframe tbody tr th {\n",
              "        vertical-align: top;\n",
              "    }\n",
              "\n",
              "    .dataframe thead th {\n",
              "        text-align: right;\n",
              "    }\n",
              "</style>\n",
              "<table border=\"1\" class=\"dataframe\">\n",
              "  <thead>\n",
              "    <tr style=\"text-align: right;\">\n",
              "      <th></th>\n",
              "      <th>index</th>\n",
              "      <th>0</th>\n",
              "    </tr>\n",
              "  </thead>\n",
              "  <tbody>\n",
              "    <tr>\n",
              "      <th>0</th>\n",
              "      <td>0</td>\n",
              "      <td>0</td>\n",
              "    </tr>\n",
              "    <tr>\n",
              "      <th>1</th>\n",
              "      <td>1</td>\n",
              "      <td>1</td>\n",
              "    </tr>\n",
              "    <tr>\n",
              "      <th>2</th>\n",
              "      <td>2</td>\n",
              "      <td>0</td>\n",
              "    </tr>\n",
              "    <tr>\n",
              "      <th>3</th>\n",
              "      <td>3</td>\n",
              "      <td>0</td>\n",
              "    </tr>\n",
              "    <tr>\n",
              "      <th>4</th>\n",
              "      <td>4</td>\n",
              "      <td>0</td>\n",
              "    </tr>\n",
              "  </tbody>\n",
              "</table>\n",
              "</div>"
            ],
            "text/plain": [
              "   index  0\n",
              "0      0  0\n",
              "1      1  1\n",
              "2      2  0\n",
              "3      3  0\n",
              "4      4  0"
            ]
          },
          "metadata": {},
          "execution_count": 49
        }
      ]
    },
    {
      "cell_type": "code",
      "metadata": {
        "colab": {
          "base_uri": "https://localhost:8080/",
          "height": 423
        },
        "id": "kJYAt_XaPeyZ",
        "outputId": "fb74996a-faa5-427a-fa5b-3029f548722a"
      },
      "source": [
        "y_pred_Data = pd.DataFrame(y_pred, columns = ['Ans'])\n",
        "y_pred_Data\n",
        "submit = pd.read_csv('gdrive/My Drive/data_sciencehw1/ex_submit.csv')\n",
        "submit = submit.drop('ans', axis = 1)\n",
        "submit.head()\n",
        "submitt = pd.concat([submit, y_pred_Data], axis = 1)\n",
        "submitt"
      ],
      "execution_count": null,
      "outputs": [
        {
          "output_type": "execute_result",
          "data": {
            "text/html": [
              "<div>\n",
              "<style scoped>\n",
              "    .dataframe tbody tr th:only-of-type {\n",
              "        vertical-align: middle;\n",
              "    }\n",
              "\n",
              "    .dataframe tbody tr th {\n",
              "        vertical-align: top;\n",
              "    }\n",
              "\n",
              "    .dataframe thead th {\n",
              "        text-align: right;\n",
              "    }\n",
              "</style>\n",
              "<table border=\"1\" class=\"dataframe\">\n",
              "  <thead>\n",
              "    <tr style=\"text-align: right;\">\n",
              "      <th></th>\n",
              "      <th>id</th>\n",
              "      <th>Ans</th>\n",
              "    </tr>\n",
              "  </thead>\n",
              "  <tbody>\n",
              "    <tr>\n",
              "      <th>0</th>\n",
              "      <td>0.0</td>\n",
              "      <td>0</td>\n",
              "    </tr>\n",
              "    <tr>\n",
              "      <th>1</th>\n",
              "      <td>1.0</td>\n",
              "      <td>1</td>\n",
              "    </tr>\n",
              "    <tr>\n",
              "      <th>2</th>\n",
              "      <td>2.0</td>\n",
              "      <td>0</td>\n",
              "    </tr>\n",
              "    <tr>\n",
              "      <th>3</th>\n",
              "      <td>3.0</td>\n",
              "      <td>0</td>\n",
              "    </tr>\n",
              "    <tr>\n",
              "      <th>4</th>\n",
              "      <td>4.0</td>\n",
              "      <td>0</td>\n",
              "    </tr>\n",
              "    <tr>\n",
              "      <th>...</th>\n",
              "      <td>...</td>\n",
              "      <td>...</td>\n",
              "    </tr>\n",
              "    <tr>\n",
              "      <th>785</th>\n",
              "      <td>785.0</td>\n",
              "      <td>0</td>\n",
              "    </tr>\n",
              "    <tr>\n",
              "      <th>786</th>\n",
              "      <td>786.0</td>\n",
              "      <td>0</td>\n",
              "    </tr>\n",
              "    <tr>\n",
              "      <th>787</th>\n",
              "      <td>787.0</td>\n",
              "      <td>1</td>\n",
              "    </tr>\n",
              "    <tr>\n",
              "      <th>788</th>\n",
              "      <td>788.0</td>\n",
              "      <td>1</td>\n",
              "    </tr>\n",
              "    <tr>\n",
              "      <th>789</th>\n",
              "      <td>789.0</td>\n",
              "      <td>1</td>\n",
              "    </tr>\n",
              "  </tbody>\n",
              "</table>\n",
              "<p>790 rows × 2 columns</p>\n",
              "</div>"
            ],
            "text/plain": [
              "        id Ans\n",
              "0      0.0   0\n",
              "1      1.0   1\n",
              "2      2.0   0\n",
              "3      3.0   0\n",
              "4      4.0   0\n",
              "..     ...  ..\n",
              "785  785.0   0\n",
              "786  786.0   0\n",
              "787  787.0   1\n",
              "788  788.0   1\n",
              "789  789.0   1\n",
              "\n",
              "[790 rows x 2 columns]"
            ]
          },
          "metadata": {},
          "execution_count": 50
        }
      ]
    },
    {
      "cell_type": "code",
      "metadata": {
        "id": "ELZkB60eNrEW"
      },
      "source": [
        "submitt.to_csv('gdrive/My Drive/data_sciencehw1/submitt.csv', index = False)"
      ],
      "execution_count": null,
      "outputs": []
    },
    {
      "cell_type": "code",
      "metadata": {
        "colab": {
          "base_uri": "https://localhost:8080/",
          "height": 223
        },
        "id": "49h8O7GERtYb",
        "outputId": "33df9bab-399a-40e3-a893-ee7eb2aa8cf4"
      },
      "source": [
        "print(dc.feature_importances_)\n",
        "x_train.head()\n"
      ],
      "execution_count": null,
      "outputs": [
        {
          "output_type": "stream",
          "name": "stdout",
          "text": [
            "[0.28825495 0.1421161  0.47296005 0.09666891]\n"
          ]
        },
        {
          "output_type": "execute_result",
          "data": {
            "text/html": [
              "<div>\n",
              "<style scoped>\n",
              "    .dataframe tbody tr th:only-of-type {\n",
              "        vertical-align: middle;\n",
              "    }\n",
              "\n",
              "    .dataframe tbody tr th {\n",
              "        vertical-align: top;\n",
              "    }\n",
              "\n",
              "    .dataframe thead th {\n",
              "        text-align: right;\n",
              "    }\n",
              "</style>\n",
              "<table border=\"1\" class=\"dataframe\">\n",
              "  <thead>\n",
              "    <tr style=\"text-align: right;\">\n",
              "      <th></th>\n",
              "      <th>Attribute5</th>\n",
              "      <th>Attribute7</th>\n",
              "      <th>Attribute15</th>\n",
              "      <th>Attribute19</th>\n",
              "    </tr>\n",
              "  </thead>\n",
              "  <tbody>\n",
              "    <tr>\n",
              "      <th>1129</th>\n",
              "      <td>10.6</td>\n",
              "      <td>2.6</td>\n",
              "      <td>66.0</td>\n",
              "      <td>7.0</td>\n",
              "    </tr>\n",
              "    <tr>\n",
              "      <th>2638</th>\n",
              "      <td>0.0</td>\n",
              "      <td>6.2</td>\n",
              "      <td>49.0</td>\n",
              "      <td>5.0</td>\n",
              "    </tr>\n",
              "    <tr>\n",
              "      <th>16272</th>\n",
              "      <td>0.0</td>\n",
              "      <td>13.2</td>\n",
              "      <td>8.0</td>\n",
              "      <td>0.0</td>\n",
              "    </tr>\n",
              "    <tr>\n",
              "      <th>2655</th>\n",
              "      <td>0.0</td>\n",
              "      <td>9.1</td>\n",
              "      <td>69.0</td>\n",
              "      <td>6.0</td>\n",
              "    </tr>\n",
              "    <tr>\n",
              "      <th>7403</th>\n",
              "      <td>0.2</td>\n",
              "      <td>NaN</td>\n",
              "      <td>57.0</td>\n",
              "      <td>5.0</td>\n",
              "    </tr>\n",
              "  </tbody>\n",
              "</table>\n",
              "</div>"
            ],
            "text/plain": [
              "       Attribute5  Attribute7  Attribute15  Attribute19\n",
              "1129         10.6         2.6         66.0          7.0\n",
              "2638          0.0         6.2         49.0          5.0\n",
              "16272         0.0        13.2          8.0          0.0\n",
              "2655          0.0         9.1         69.0          6.0\n",
              "7403          0.2         NaN         57.0          5.0"
            ]
          },
          "metadata": {},
          "execution_count": 52
        }
      ]
    }
  ]
}