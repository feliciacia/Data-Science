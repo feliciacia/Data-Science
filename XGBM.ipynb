{
  "cells": [
    {
      "cell_type": "markdown",
      "metadata": {
        "id": "view-in-github",
        "colab_type": "text"
      },
      "source": [
        "<a href=\"https://colab.research.google.com/github/feliciacia/Data-Science/blob/main/XGBM.ipynb\" target=\"_parent\"><img src=\"https://colab.research.google.com/assets/colab-badge.svg\" alt=\"Open In Colab\"/></a>"
      ]
    },
    {
      "cell_type": "code",
      "execution_count": null,
      "metadata": {
        "id": "jxf6nSPD2_IP"
      },
      "outputs": [],
      "source": [
        "import pandas as pd \n",
        "import xgboost as xgb\n",
        "from xgboost.sklearn import XGBClassifier\n"
      ]
    },
    {
      "cell_type": "code",
      "execution_count": null,
      "metadata": {
        "colab": {
          "base_uri": "https://localhost:8080/"
        },
        "id": "Kvs1qRga3L4-",
        "outputId": "45abb102-b6c3-4c40-d309-95bc5ce674d1"
      },
      "outputs": [
        {
          "name": "stdout",
          "output_type": "stream",
          "text": [
            "Mounted at /content/gdrive\n"
          ]
        }
      ],
      "source": [
        "from google.colab import drive\n",
        "drive.mount('/content/gdrive')"
      ]
    },
    {
      "cell_type": "code",
      "execution_count": null,
      "metadata": {
        "colab": {
          "base_uri": "https://localhost:8080/",
          "height": 226
        },
        "id": "JIxeQk_35GLG",
        "outputId": "e480780f-799b-43a6-97d9-0ac878146735"
      },
      "outputs": [
        {
          "data": {
            "text/html": [
              "<div>\n",
              "<style scoped>\n",
              "    .dataframe tbody tr th:only-of-type {\n",
              "        vertical-align: middle;\n",
              "    }\n",
              "\n",
              "    .dataframe tbody tr th {\n",
              "        vertical-align: top;\n",
              "    }\n",
              "\n",
              "    .dataframe thead th {\n",
              "        text-align: right;\n",
              "    }\n",
              "</style>\n",
              "<table border=\"1\" class=\"dataframe\">\n",
              "  <thead>\n",
              "    <tr style=\"text-align: right;\">\n",
              "      <th></th>\n",
              "      <th>Attribute1</th>\n",
              "      <th>Attribute2</th>\n",
              "      <th>Attribute3</th>\n",
              "      <th>Attribute4</th>\n",
              "      <th>Attribute5</th>\n",
              "      <th>Attribute6</th>\n",
              "      <th>Attribute7</th>\n",
              "      <th>Attribute8</th>\n",
              "      <th>Attribute9</th>\n",
              "      <th>Attribute10</th>\n",
              "      <th>Attribute11</th>\n",
              "      <th>Attribute12</th>\n",
              "      <th>Attribute13</th>\n",
              "      <th>Attribute14</th>\n",
              "      <th>Attribute15</th>\n",
              "      <th>Attribute16</th>\n",
              "      <th>Attribute17</th>\n",
              "      <th>Attribute18</th>\n",
              "      <th>Attribute19</th>\n",
              "      <th>Attribute20</th>\n",
              "      <th>Attribute21</th>\n",
              "      <th>Attribute22</th>\n",
              "      <th>Attribute23</th>\n",
              "    </tr>\n",
              "  </thead>\n",
              "  <tbody>\n",
              "    <tr>\n",
              "      <th>0</th>\n",
              "      <td>2008-12-01</td>\n",
              "      <td>2</td>\n",
              "      <td>13.4</td>\n",
              "      <td>22.9</td>\n",
              "      <td>0.6</td>\n",
              "      <td>NaN</td>\n",
              "      <td>NaN</td>\n",
              "      <td>W</td>\n",
              "      <td>44.0</td>\n",
              "      <td>W</td>\n",
              "      <td>WNW</td>\n",
              "      <td>20.0</td>\n",
              "      <td>24.0</td>\n",
              "      <td>71.0</td>\n",
              "      <td>22.0</td>\n",
              "      <td>1007.7</td>\n",
              "      <td>1007.1</td>\n",
              "      <td>8.0</td>\n",
              "      <td>NaN</td>\n",
              "      <td>16.9</td>\n",
              "      <td>21.8</td>\n",
              "      <td>No</td>\n",
              "      <td>No</td>\n",
              "    </tr>\n",
              "    <tr>\n",
              "      <th>1</th>\n",
              "      <td>2008-12-17</td>\n",
              "      <td>2</td>\n",
              "      <td>14.1</td>\n",
              "      <td>20.9</td>\n",
              "      <td>0.0</td>\n",
              "      <td>NaN</td>\n",
              "      <td>NaN</td>\n",
              "      <td>ENE</td>\n",
              "      <td>22.0</td>\n",
              "      <td>SSW</td>\n",
              "      <td>E</td>\n",
              "      <td>11.0</td>\n",
              "      <td>9.0</td>\n",
              "      <td>69.0</td>\n",
              "      <td>82.0</td>\n",
              "      <td>1012.2</td>\n",
              "      <td>1010.4</td>\n",
              "      <td>8.0</td>\n",
              "      <td>1.0</td>\n",
              "      <td>17.2</td>\n",
              "      <td>18.1</td>\n",
              "      <td>No</td>\n",
              "      <td>Yes</td>\n",
              "    </tr>\n",
              "    <tr>\n",
              "      <th>2</th>\n",
              "      <td>2008-12-20</td>\n",
              "      <td>2</td>\n",
              "      <td>9.8</td>\n",
              "      <td>25.6</td>\n",
              "      <td>0.0</td>\n",
              "      <td>NaN</td>\n",
              "      <td>NaN</td>\n",
              "      <td>SSE</td>\n",
              "      <td>26.0</td>\n",
              "      <td>SE</td>\n",
              "      <td>NNW</td>\n",
              "      <td>17.0</td>\n",
              "      <td>6.0</td>\n",
              "      <td>45.0</td>\n",
              "      <td>26.0</td>\n",
              "      <td>1019.2</td>\n",
              "      <td>1017.1</td>\n",
              "      <td>NaN</td>\n",
              "      <td>NaN</td>\n",
              "      <td>15.8</td>\n",
              "      <td>23.2</td>\n",
              "      <td>No</td>\n",
              "      <td>No</td>\n",
              "    </tr>\n",
              "    <tr>\n",
              "      <th>3</th>\n",
              "      <td>2008-12-30</td>\n",
              "      <td>2</td>\n",
              "      <td>12.5</td>\n",
              "      <td>24.2</td>\n",
              "      <td>1.2</td>\n",
              "      <td>NaN</td>\n",
              "      <td>NaN</td>\n",
              "      <td>WNW</td>\n",
              "      <td>50.0</td>\n",
              "      <td>WSW</td>\n",
              "      <td>SW</td>\n",
              "      <td>11.0</td>\n",
              "      <td>22.0</td>\n",
              "      <td>78.0</td>\n",
              "      <td>70.0</td>\n",
              "      <td>1005.6</td>\n",
              "      <td>1003.4</td>\n",
              "      <td>8.0</td>\n",
              "      <td>8.0</td>\n",
              "      <td>12.5</td>\n",
              "      <td>18.2</td>\n",
              "      <td>Yes</td>\n",
              "      <td>No</td>\n",
              "    </tr>\n",
              "    <tr>\n",
              "      <th>4</th>\n",
              "      <td>2009-01-22</td>\n",
              "      <td>2</td>\n",
              "      <td>24.4</td>\n",
              "      <td>34.0</td>\n",
              "      <td>0.6</td>\n",
              "      <td>NaN</td>\n",
              "      <td>NaN</td>\n",
              "      <td>NW</td>\n",
              "      <td>98.0</td>\n",
              "      <td>N</td>\n",
              "      <td>NNW</td>\n",
              "      <td>26.0</td>\n",
              "      <td>48.0</td>\n",
              "      <td>60.0</td>\n",
              "      <td>39.0</td>\n",
              "      <td>1005.3</td>\n",
              "      <td>997.8</td>\n",
              "      <td>4.0</td>\n",
              "      <td>1.0</td>\n",
              "      <td>26.1</td>\n",
              "      <td>33.1</td>\n",
              "      <td>No</td>\n",
              "      <td>Yes</td>\n",
              "    </tr>\n",
              "  </tbody>\n",
              "</table>\n",
              "</div>"
            ],
            "text/plain": [
              "   Attribute1  Attribute2  Attribute3  ...  Attribute21  Attribute22  Attribute23\n",
              "0  2008-12-01           2        13.4  ...         21.8           No           No\n",
              "1  2008-12-17           2        14.1  ...         18.1           No          Yes\n",
              "2  2008-12-20           2         9.8  ...         23.2           No           No\n",
              "3  2008-12-30           2        12.5  ...         18.2          Yes           No\n",
              "4  2009-01-22           2        24.4  ...         33.1           No          Yes\n",
              "\n",
              "[5 rows x 23 columns]"
            ]
          },
          "execution_count": 4,
          "metadata": {},
          "output_type": "execute_result"
        }
      ],
      "source": [
        "train=pd.read_csv('gdrive/My Drive/data_sciencehw1/train.csv')\n",
        "test=pd.read_csv('gdrive/My Drive/data_sciencehw1/test.csv')\n",
        "train['Attribute8'].unique()\n",
        "train.head()"
      ]
    },
    {
      "cell_type": "code",
      "execution_count": null,
      "metadata": {
        "id": "2tKFNLaK8MAE"
      },
      "outputs": [],
      "source": [
        "from sklearn.tree import DecisionTreeClassifier\n",
        "from sklearn.model_selection import train_test_split\n",
        "from sklearn import metrics"
      ]
    },
    {
      "cell_type": "code",
      "execution_count": null,
      "metadata": {
        "colab": {
          "base_uri": "https://localhost:8080/",
          "height": 363
        },
        "id": "NiUfSH0pABwM",
        "outputId": "393af504-e6b8-4de8-9e67-664e9089800d"
      },
      "outputs": [
        {
          "data": {
            "text/html": [
              "<div>\n",
              "<style scoped>\n",
              "    .dataframe tbody tr th:only-of-type {\n",
              "        vertical-align: middle;\n",
              "    }\n",
              "\n",
              "    .dataframe tbody tr th {\n",
              "        vertical-align: top;\n",
              "    }\n",
              "\n",
              "    .dataframe thead th {\n",
              "        text-align: right;\n",
              "    }\n",
              "</style>\n",
              "<table border=\"1\" class=\"dataframe\">\n",
              "  <thead>\n",
              "    <tr style=\"text-align: right;\">\n",
              "      <th></th>\n",
              "      <th>Attribute5</th>\n",
              "      <th>Attribute7</th>\n",
              "      <th>Attribute9</th>\n",
              "      <th>Attribute15</th>\n",
              "      <th>Attribute17</th>\n",
              "      <th>Attribute19</th>\n",
              "    </tr>\n",
              "  </thead>\n",
              "  <tbody>\n",
              "    <tr>\n",
              "      <th>0</th>\n",
              "      <td>0.6</td>\n",
              "      <td>NaN</td>\n",
              "      <td>44.0</td>\n",
              "      <td>22.0</td>\n",
              "      <td>1007.1</td>\n",
              "      <td>NaN</td>\n",
              "    </tr>\n",
              "    <tr>\n",
              "      <th>1</th>\n",
              "      <td>0.0</td>\n",
              "      <td>NaN</td>\n",
              "      <td>22.0</td>\n",
              "      <td>82.0</td>\n",
              "      <td>1010.4</td>\n",
              "      <td>1.0</td>\n",
              "    </tr>\n",
              "    <tr>\n",
              "      <th>2</th>\n",
              "      <td>0.0</td>\n",
              "      <td>NaN</td>\n",
              "      <td>26.0</td>\n",
              "      <td>26.0</td>\n",
              "      <td>1017.1</td>\n",
              "      <td>NaN</td>\n",
              "    </tr>\n",
              "    <tr>\n",
              "      <th>3</th>\n",
              "      <td>1.2</td>\n",
              "      <td>NaN</td>\n",
              "      <td>50.0</td>\n",
              "      <td>70.0</td>\n",
              "      <td>1003.4</td>\n",
              "      <td>8.0</td>\n",
              "    </tr>\n",
              "    <tr>\n",
              "      <th>4</th>\n",
              "      <td>0.6</td>\n",
              "      <td>NaN</td>\n",
              "      <td>98.0</td>\n",
              "      <td>39.0</td>\n",
              "      <td>997.8</td>\n",
              "      <td>1.0</td>\n",
              "    </tr>\n",
              "    <tr>\n",
              "      <th>5</th>\n",
              "      <td>0.0</td>\n",
              "      <td>NaN</td>\n",
              "      <td>24.0</td>\n",
              "      <td>10.0</td>\n",
              "      <td>1014.6</td>\n",
              "      <td>NaN</td>\n",
              "    </tr>\n",
              "    <tr>\n",
              "      <th>6</th>\n",
              "      <td>0.0</td>\n",
              "      <td>NaN</td>\n",
              "      <td>24.0</td>\n",
              "      <td>13.0</td>\n",
              "      <td>1011.8</td>\n",
              "      <td>NaN</td>\n",
              "    </tr>\n",
              "    <tr>\n",
              "      <th>7</th>\n",
              "      <td>0.2</td>\n",
              "      <td>NaN</td>\n",
              "      <td>56.0</td>\n",
              "      <td>21.0</td>\n",
              "      <td>1007.4</td>\n",
              "      <td>NaN</td>\n",
              "    </tr>\n",
              "    <tr>\n",
              "      <th>8</th>\n",
              "      <td>0.4</td>\n",
              "      <td>NaN</td>\n",
              "      <td>37.0</td>\n",
              "      <td>31.0</td>\n",
              "      <td>1007.8</td>\n",
              "      <td>8.0</td>\n",
              "    </tr>\n",
              "    <tr>\n",
              "      <th>9</th>\n",
              "      <td>0.0</td>\n",
              "      <td>NaN</td>\n",
              "      <td>41.0</td>\n",
              "      <td>30.0</td>\n",
              "      <td>1008.5</td>\n",
              "      <td>1.0</td>\n",
              "    </tr>\n",
              "  </tbody>\n",
              "</table>\n",
              "</div>"
            ],
            "text/plain": [
              "   Attribute5  Attribute7  Attribute9  Attribute15  Attribute17  Attribute19\n",
              "0         0.6         NaN        44.0         22.0       1007.1          NaN\n",
              "1         0.0         NaN        22.0         82.0       1010.4          1.0\n",
              "2         0.0         NaN        26.0         26.0       1017.1          NaN\n",
              "3         1.2         NaN        50.0         70.0       1003.4          8.0\n",
              "4         0.6         NaN        98.0         39.0        997.8          1.0\n",
              "5         0.0         NaN        24.0         10.0       1014.6          NaN\n",
              "6         0.0         NaN        24.0         13.0       1011.8          NaN\n",
              "7         0.2         NaN        56.0         21.0       1007.4          NaN\n",
              "8         0.4         NaN        37.0         31.0       1007.8          8.0\n",
              "9         0.0         NaN        41.0         30.0       1008.5          1.0"
            ]
          },
          "execution_count": 6,
          "metadata": {},
          "output_type": "execute_result"
        }
      ],
      "source": [
        "x=train.drop(['Attribute23', 'Attribute1','Attribute2','Attribute3','Attribute4','Attribute6','Attribute8','Attribute10','Attribute11','Attribute12', 'Attribute13','Attribute14','Attribute16','Attribute18','Attribute20','Attribute21','Attribute22'],axis=1) #1=col\n",
        "test_data=test.drop(['Attribute1','Attribute2','Attribute3','Attribute4','Attribute6','Attribute8','Attribute10','Attribute11','Attribute12', 'Attribute13','Attribute14','Attribute16','Attribute18','Attribute20','Attribute21','Attribute22'],axis=1) #1=col\n",
        "y=train.Attribute23\n",
        "\n",
        "x.head(10)"
      ]
    },
    {
      "cell_type": "code",
      "execution_count": null,
      "metadata": {
        "colab": {
          "base_uri": "https://localhost:8080/",
          "height": 206
        },
        "id": "LItMBN7EBUnE",
        "outputId": "b36806f7-d958-49be-ec30-86af898c7c54"
      },
      "outputs": [
        {
          "data": {
            "text/html": [
              "<div>\n",
              "<style scoped>\n",
              "    .dataframe tbody tr th:only-of-type {\n",
              "        vertical-align: middle;\n",
              "    }\n",
              "\n",
              "    .dataframe tbody tr th {\n",
              "        vertical-align: top;\n",
              "    }\n",
              "\n",
              "    .dataframe thead th {\n",
              "        text-align: right;\n",
              "    }\n",
              "</style>\n",
              "<table border=\"1\" class=\"dataframe\">\n",
              "  <thead>\n",
              "    <tr style=\"text-align: right;\">\n",
              "      <th></th>\n",
              "      <th>Attribute5</th>\n",
              "      <th>Attribute7</th>\n",
              "      <th>Attribute9</th>\n",
              "      <th>Attribute15</th>\n",
              "      <th>Attribute17</th>\n",
              "      <th>Attribute19</th>\n",
              "    </tr>\n",
              "  </thead>\n",
              "  <tbody>\n",
              "    <tr>\n",
              "      <th>14674</th>\n",
              "      <td>0.0</td>\n",
              "      <td>NaN</td>\n",
              "      <td>54.0</td>\n",
              "      <td>25.0</td>\n",
              "      <td>NaN</td>\n",
              "      <td>NaN</td>\n",
              "    </tr>\n",
              "    <tr>\n",
              "      <th>204</th>\n",
              "      <td>0.0</td>\n",
              "      <td>NaN</td>\n",
              "      <td>28.0</td>\n",
              "      <td>19.0</td>\n",
              "      <td>1012.3</td>\n",
              "      <td>NaN</td>\n",
              "    </tr>\n",
              "    <tr>\n",
              "      <th>4886</th>\n",
              "      <td>NaN</td>\n",
              "      <td>NaN</td>\n",
              "      <td>26.0</td>\n",
              "      <td>65.0</td>\n",
              "      <td>1022.9</td>\n",
              "      <td>NaN</td>\n",
              "    </tr>\n",
              "    <tr>\n",
              "      <th>382</th>\n",
              "      <td>4.2</td>\n",
              "      <td>NaN</td>\n",
              "      <td>43.0</td>\n",
              "      <td>25.0</td>\n",
              "      <td>1012.5</td>\n",
              "      <td>NaN</td>\n",
              "    </tr>\n",
              "    <tr>\n",
              "      <th>2728</th>\n",
              "      <td>0.6</td>\n",
              "      <td>10.5</td>\n",
              "      <td>41.0</td>\n",
              "      <td>75.0</td>\n",
              "      <td>1008.7</td>\n",
              "      <td>3.0</td>\n",
              "    </tr>\n",
              "  </tbody>\n",
              "</table>\n",
              "</div>"
            ],
            "text/plain": [
              "       Attribute5  Attribute7  ...  Attribute17  Attribute19\n",
              "14674         0.0         NaN  ...          NaN          NaN\n",
              "204           0.0         NaN  ...       1012.3          NaN\n",
              "4886          NaN         NaN  ...       1022.9          NaN\n",
              "382           4.2         NaN  ...       1012.5          NaN\n",
              "2728          0.6        10.5  ...       1008.7          3.0\n",
              "\n",
              "[5 rows x 6 columns]"
            ]
          },
          "execution_count": 7,
          "metadata": {},
          "output_type": "execute_result"
        }
      ],
      "source": [
        "x_train, x_test, y_train, y_test=train_test_split(x,y,test_size=0.3)\n",
        "x_train.head()"
      ]
    },
    {
      "cell_type": "code",
      "execution_count": null,
      "metadata": {
        "id": "WiMEVrXOpu2C"
      },
      "outputs": [],
      "source": [
        "from sklearn.model_selection import GridSearchCV"
      ]
    },
    {
      "cell_type": "code",
      "execution_count": null,
      "metadata": {
        "colab": {
          "base_uri": "https://localhost:8080/"
        },
        "id": "7Qc4P2qTRoBC",
        "outputId": "bae720e7-862d-4e2e-b62b-87835b93de08"
      },
      "outputs": [
        {
          "data": {
            "text/plain": [
              "({'max_depth': 10, 'min_child_weight': 75}, 0.8518255990440389)"
            ]
          },
          "execution_count": 9,
          "metadata": {},
          "output_type": "execute_result"
        }
      ],
      "source": [
        "param1 = {'max_depth':[5,10,15,20,25],\n",
        "          'min_child_weight':[25,50,75,100]}\n",
        "grid1 = GridSearchCV(estimator = XGBClassifier(learning_rate=0.01, scale_pos_weight=4.3836),param_grid=param1,scoring='roc_auc')\n",
        "grid1.fit(x,y)\n",
        "grid1.best_params_, grid1.best_score_"
      ]
    },
    {
      "cell_type": "code",
      "execution_count": null,
      "metadata": {
        "colab": {
          "base_uri": "https://localhost:8080/"
        },
        "id": "QRJ-BE20T4en",
        "outputId": "87ded7ef-e545-4ce8-c50e-30bc3fb3116b"
      },
      "outputs": [
        {
          "data": {
            "text/plain": [
              "({'n_estimators': 400}, 0.8573140732458006)"
            ]
          },
          "execution_count": 30,
          "metadata": {},
          "output_type": "execute_result"
        }
      ],
      "source": [
        "param2 = {'n_estimators':[100,200,300,400,500]}\n",
        "grid2 = GridSearchCV(estimator = XGBClassifier(learning_rate=0.01, scale_pos_weight=4.3836, max_depth=10,min_child_weight=75),param_grid=param2,scoring='roc_auc')\n",
        "grid2.fit(x,y)\n",
        "grid2.best_params_, grid2.best_score_"
      ]
    },
    {
      "cell_type": "code",
      "execution_count": null,
      "metadata": {
        "colab": {
          "base_uri": "https://localhost:8080/"
        },
        "id": "baOmHVwCVStZ",
        "outputId": "fd32793c-95ee-4465-8ca6-de1bdcbd8bd5"
      },
      "outputs": [
        {
          "data": {
            "text/plain": [
              "({'reg_alpha': 0.001, 'reg_lambda': 0}, 0.8575458949894805)"
            ]
          },
          "execution_count": 44,
          "metadata": {},
          "output_type": "execute_result"
        }
      ],
      "source": [
        "param3 = {'reg_alpha':[1e-3,5e-3,1e-2,1e-1],\n",
        "          'reg_lambda':[0,1e-5,1e-3,1e-1,1]}\n",
        "grid3 = GridSearchCV(estimator = XGBClassifier(learning_rate=0.01, scale_pos_weight=4.3836, max_depth=10,min_child_weight=75,n_estimators=400),param_grid=param3,scoring='roc_auc')\n",
        "grid3.fit(x,y)\n",
        "grid3.best_params_, grid3.best_score_"
      ]
    },
    {
      "cell_type": "code",
      "execution_count": null,
      "metadata": {
        "colab": {
          "background_save": true,
          "base_uri": "https://localhost:8080/"
        },
        "id": "mOlbzjvAXpBB",
        "outputId": "b97df34b-d7f0-470d-c6a6-627ed99bd330"
      },
      "outputs": [
        {
          "data": {
            "text/plain": [
              "({'boosting_type': 'gbtree'}, 0.8575458949894805)"
            ]
          },
          "execution_count": null,
          "metadata": {},
          "output_type": "execute_result"
        }
      ],
      "source": [
        "param4 = {'boosting_type':['gbtree','gblinear','dart']}\n",
        "grid4 = GridSearchCV(estimator = XGBClassifier(learning_rate=0.01, scale_pos_weight=4.3836, max_depth=10,min_child_weight=75,n_estimators=400,reg_alpha=0.001,reg_lambda=0),param_grid=param4,scoring='roc_auc')\n",
        "grid4.fit(x,y)\n",
        "grid4.best_params_, grid4.best_score_"
      ]
    },
    {
      "cell_type": "code",
      "execution_count": null,
      "metadata": {
        "colab": {
          "background_save": true,
          "base_uri": "https://localhost:8080/"
        },
        "id": "KOgjTm0mwgMp",
        "outputId": "2ebfb4f3-b888-4f22-ddb8-15d64dd03884"
      },
      "outputs": [
        {
          "data": {
            "text/plain": [
              "({'learning_rate': 0.01}, 0.8575458949894805)"
            ]
          },
          "execution_count": null,
          "metadata": {},
          "output_type": "execute_result"
        }
      ],
      "source": [
        "param5 = {'learning_rate':[0.005,0.01,0.02,0.05,0.1]}\n",
        "grid5 = GridSearchCV(estimator = XGBClassifier(scale_pos_weight=4.3836, max_depth=10,min_child_weight=75,n_estimators=400,reg_alpha=0.001,reg_lambda=0),param_grid=param5,scoring='roc_auc')\n",
        "grid5.fit(x,y)\n",
        "grid5.best_params_, grid5.best_score_"
      ]
    },
    {
      "cell_type": "code",
      "execution_count": null,
      "metadata": {
        "colab": {
          "background_save": true,
          "base_uri": "https://localhost:8080/"
        },
        "id": "Ewu0WAHPCTIB",
        "outputId": "1354bd46-2e99-4c4b-c857-db211e6a04ef"
      },
      "outputs": [
        {
          "data": {
            "text/plain": [
              "0.8118174726989079"
            ]
          },
          "execution_count": null,
          "metadata": {},
          "output_type": "execute_result"
        }
      ],
      "source": [
        "dc= XGBClassifier(objective='binary:logistic',learning_rate=0.01, scale_pos_weight=4.3836, max_depth=10,min_child_weight=75,n_estimators=400,reg_alpha=0.001,reg_lambda=0)\n",
        "dc=dc.fit(x,y)\n",
        "metrics.accuracy_score(dc.predict(x_test),y_test)"
      ]
    },
    {
      "cell_type": "code",
      "execution_count": null,
      "metadata": {
        "id": "AfrKRIotFU8S"
      },
      "outputs": [],
      "source": [
        "y_pred = dc.predict(test_data)"
      ]
    },
    {
      "cell_type": "code",
      "execution_count": null,
      "metadata": {
        "id": "i-A1pc3wHSm0"
      },
      "outputs": [],
      "source": [
        "for data in range(len(y_pred)):\n",
        "  if(y_pred[data]=='No'):\n",
        "    y_pred[data] = 0\n",
        "  else:\n",
        "    y_pred[data] = 1"
      ]
    },
    {
      "cell_type": "code",
      "execution_count": null,
      "metadata": {
        "colab": {
          "base_uri": "https://localhost:8080/"
        },
        "id": "rJ46vPiaMvCd",
        "outputId": "f677cb81-806c-4a87-88be-394384e8b8f6"
      },
      "outputs": [
        {
          "data": {
            "text/html": [
              "<div>\n",
              "<style scoped>\n",
              "    .dataframe tbody tr th:only-of-type {\n",
              "        vertical-align: middle;\n",
              "    }\n",
              "\n",
              "    .dataframe tbody tr th {\n",
              "        vertical-align: top;\n",
              "    }\n",
              "\n",
              "    .dataframe thead th {\n",
              "        text-align: right;\n",
              "    }\n",
              "</style>\n",
              "<table border=\"1\" class=\"dataframe\">\n",
              "  <thead>\n",
              "    <tr style=\"text-align: right;\">\n",
              "      <th></th>\n",
              "      <th>index</th>\n",
              "      <th>0</th>\n",
              "    </tr>\n",
              "  </thead>\n",
              "  <tbody>\n",
              "    <tr>\n",
              "      <th>0</th>\n",
              "      <td>0</td>\n",
              "      <td>0</td>\n",
              "    </tr>\n",
              "    <tr>\n",
              "      <th>1</th>\n",
              "      <td>1</td>\n",
              "      <td>1</td>\n",
              "    </tr>\n",
              "    <tr>\n",
              "      <th>2</th>\n",
              "      <td>2</td>\n",
              "      <td>0</td>\n",
              "    </tr>\n",
              "    <tr>\n",
              "      <th>3</th>\n",
              "      <td>3</td>\n",
              "      <td>0</td>\n",
              "    </tr>\n",
              "    <tr>\n",
              "      <th>4</th>\n",
              "      <td>4</td>\n",
              "      <td>0</td>\n",
              "    </tr>\n",
              "  </tbody>\n",
              "</table>\n",
              "</div>"
            ],
            "text/plain": [
              "   index  0\n",
              "0      0  0\n",
              "1      1  1\n",
              "2      2  0\n",
              "3      3  0\n",
              "4      4  0"
            ]
          },
          "execution_count": 50,
          "metadata": {},
          "output_type": "execute_result"
        }
      ],
      "source": [
        "\n",
        "y_pred_Data = pd.DataFrame(y_pred)\n",
        "y_pred_Data = y_pred_Data.reset_index()\n",
        "y_pred_Data['index'].astype('str')\n",
        "y_pred_Data.to_csv('gdrive/My Drive/data_sciencehw1/result1.csv',index=False)\n",
        "y_pred_Data.head(5)"
      ]
    },
    {
      "cell_type": "code",
      "execution_count": null,
      "metadata": {
        "colab": {
          "base_uri": "https://localhost:8080/"
        },
        "id": "kJYAt_XaPeyZ",
        "outputId": "85d6c16c-036e-43c6-d174-95eeb519b719"
      },
      "outputs": [
        {
          "data": {
            "text/html": [
              "<div>\n",
              "<style scoped>\n",
              "    .dataframe tbody tr th:only-of-type {\n",
              "        vertical-align: middle;\n",
              "    }\n",
              "\n",
              "    .dataframe tbody tr th {\n",
              "        vertical-align: top;\n",
              "    }\n",
              "\n",
              "    .dataframe thead th {\n",
              "        text-align: right;\n",
              "    }\n",
              "</style>\n",
              "<table border=\"1\" class=\"dataframe\">\n",
              "  <thead>\n",
              "    <tr style=\"text-align: right;\">\n",
              "      <th></th>\n",
              "      <th>id</th>\n",
              "      <th>Ans</th>\n",
              "    </tr>\n",
              "  </thead>\n",
              "  <tbody>\n",
              "    <tr>\n",
              "      <th>0</th>\n",
              "      <td>0.0</td>\n",
              "      <td>0</td>\n",
              "    </tr>\n",
              "    <tr>\n",
              "      <th>1</th>\n",
              "      <td>1.0</td>\n",
              "      <td>1</td>\n",
              "    </tr>\n",
              "    <tr>\n",
              "      <th>2</th>\n",
              "      <td>2.0</td>\n",
              "      <td>0</td>\n",
              "    </tr>\n",
              "    <tr>\n",
              "      <th>3</th>\n",
              "      <td>3.0</td>\n",
              "      <td>0</td>\n",
              "    </tr>\n",
              "    <tr>\n",
              "      <th>4</th>\n",
              "      <td>4.0</td>\n",
              "      <td>0</td>\n",
              "    </tr>\n",
              "    <tr>\n",
              "      <th>...</th>\n",
              "      <td>...</td>\n",
              "      <td>...</td>\n",
              "    </tr>\n",
              "    <tr>\n",
              "      <th>785</th>\n",
              "      <td>785.0</td>\n",
              "      <td>0</td>\n",
              "    </tr>\n",
              "    <tr>\n",
              "      <th>786</th>\n",
              "      <td>786.0</td>\n",
              "      <td>0</td>\n",
              "    </tr>\n",
              "    <tr>\n",
              "      <th>787</th>\n",
              "      <td>787.0</td>\n",
              "      <td>1</td>\n",
              "    </tr>\n",
              "    <tr>\n",
              "      <th>788</th>\n",
              "      <td>788.0</td>\n",
              "      <td>1</td>\n",
              "    </tr>\n",
              "    <tr>\n",
              "      <th>789</th>\n",
              "      <td>789.0</td>\n",
              "      <td>1</td>\n",
              "    </tr>\n",
              "  </tbody>\n",
              "</table>\n",
              "<p>790 rows × 2 columns</p>\n",
              "</div>"
            ],
            "text/plain": [
              "        id Ans\n",
              "0      0.0   0\n",
              "1      1.0   1\n",
              "2      2.0   0\n",
              "3      3.0   0\n",
              "4      4.0   0\n",
              "..     ...  ..\n",
              "785  785.0   0\n",
              "786  786.0   0\n",
              "787  787.0   1\n",
              "788  788.0   1\n",
              "789  789.0   1\n",
              "\n",
              "[790 rows x 2 columns]"
            ]
          },
          "execution_count": 51,
          "metadata": {},
          "output_type": "execute_result"
        }
      ],
      "source": [
        "y_pred_Data = pd.DataFrame(y_pred, columns = ['Ans'])\n",
        "y_pred_Data\n",
        "submit = pd.read_csv('gdrive/My Drive/data_sciencehw1/ex_submit.csv')\n",
        "submit = submit.drop('ans', axis = 1)\n",
        "submit.head()\n",
        "submitt = pd.concat([submit, y_pred_Data], axis = 1)\n",
        "submitt"
      ]
    },
    {
      "cell_type": "code",
      "execution_count": null,
      "metadata": {
        "id": "ELZkB60eNrEW"
      },
      "outputs": [],
      "source": [
        "submitt.to_csv('gdrive/My Drive/data_sciencehw1/submitt.csv', index = False)"
      ]
    },
    {
      "cell_type": "code",
      "execution_count": null,
      "metadata": {
        "colab": {
          "base_uri": "https://localhost:8080/"
        },
        "id": "49h8O7GERtYb",
        "outputId": "9670468e-738e-404e-a139-54cd8ac2c855"
      },
      "outputs": [
        {
          "name": "stdout",
          "output_type": "stream",
          "text": [
            "[0.11227171 0.11951476 0.14556132 0.46797097 0.07825272 0.07642853]\n"
          ]
        },
        {
          "data": {
            "text/html": [
              "<div>\n",
              "<style scoped>\n",
              "    .dataframe tbody tr th:only-of-type {\n",
              "        vertical-align: middle;\n",
              "    }\n",
              "\n",
              "    .dataframe tbody tr th {\n",
              "        vertical-align: top;\n",
              "    }\n",
              "\n",
              "    .dataframe thead th {\n",
              "        text-align: right;\n",
              "    }\n",
              "</style>\n",
              "<table border=\"1\" class=\"dataframe\">\n",
              "  <thead>\n",
              "    <tr style=\"text-align: right;\">\n",
              "      <th></th>\n",
              "      <th>Attribute5</th>\n",
              "      <th>Attribute7</th>\n",
              "      <th>Attribute9</th>\n",
              "      <th>Attribute15</th>\n",
              "      <th>Attribute17</th>\n",
              "      <th>Attribute19</th>\n",
              "    </tr>\n",
              "  </thead>\n",
              "  <tbody>\n",
              "    <tr>\n",
              "      <th>14674</th>\n",
              "      <td>0.0</td>\n",
              "      <td>NaN</td>\n",
              "      <td>54.0</td>\n",
              "      <td>25.0</td>\n",
              "      <td>NaN</td>\n",
              "      <td>NaN</td>\n",
              "    </tr>\n",
              "    <tr>\n",
              "      <th>204</th>\n",
              "      <td>0.0</td>\n",
              "      <td>NaN</td>\n",
              "      <td>28.0</td>\n",
              "      <td>19.0</td>\n",
              "      <td>1012.3</td>\n",
              "      <td>NaN</td>\n",
              "    </tr>\n",
              "    <tr>\n",
              "      <th>4886</th>\n",
              "      <td>NaN</td>\n",
              "      <td>NaN</td>\n",
              "      <td>26.0</td>\n",
              "      <td>65.0</td>\n",
              "      <td>1022.9</td>\n",
              "      <td>NaN</td>\n",
              "    </tr>\n",
              "    <tr>\n",
              "      <th>382</th>\n",
              "      <td>4.2</td>\n",
              "      <td>NaN</td>\n",
              "      <td>43.0</td>\n",
              "      <td>25.0</td>\n",
              "      <td>1012.5</td>\n",
              "      <td>NaN</td>\n",
              "    </tr>\n",
              "    <tr>\n",
              "      <th>2728</th>\n",
              "      <td>0.6</td>\n",
              "      <td>10.5</td>\n",
              "      <td>41.0</td>\n",
              "      <td>75.0</td>\n",
              "      <td>1008.7</td>\n",
              "      <td>3.0</td>\n",
              "    </tr>\n",
              "  </tbody>\n",
              "</table>\n",
              "</div>"
            ],
            "text/plain": [
              "       Attribute5  Attribute7  ...  Attribute17  Attribute19\n",
              "14674         0.0         NaN  ...          NaN          NaN\n",
              "204           0.0         NaN  ...       1012.3          NaN\n",
              "4886          NaN         NaN  ...       1022.9          NaN\n",
              "382           4.2         NaN  ...       1012.5          NaN\n",
              "2728          0.6        10.5  ...       1008.7          3.0\n",
              "\n",
              "[5 rows x 6 columns]"
            ]
          },
          "execution_count": 53,
          "metadata": {},
          "output_type": "execute_result"
        }
      ],
      "source": [
        "print(dc.feature_importances_)\n",
        "x_train.head()\n"
      ]
    }
  ],
  "metadata": {
    "colab": {
      "provenance": [],
      "authorship_tag": "ABX9TyMYpEZI9Pr5BR0IjfuwkaMW",
      "include_colab_link": true
    },
    "kernelspec": {
      "display_name": "Python 3",
      "name": "python3"
    },
    "language_info": {
      "name": "python"
    }
  },
  "nbformat": 4,
  "nbformat_minor": 0
}